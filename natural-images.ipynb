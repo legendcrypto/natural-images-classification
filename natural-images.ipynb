{
 "cells": [
  {
   "cell_type": "code",
   "execution_count": 1,
   "metadata": {},
   "outputs": [],
   "source": [
    "# Importing libraries\n",
    "import os\n",
    "import numpy as np\n",
    "import pandas as pd\n",
    "import cv2\n",
    "import matplotlib.pyplot as plt\n",
    "from tqdm import tqdm\n",
    "from keras import optimizers, metrics, models\n",
    "from keras.layers import Dense, Conv2D, Flatten, Activation, MaxPooling2D, Dropout\n",
    "from keras.utils.np_utils import to_categorical"
   ]
  },
  {
   "cell_type": "code",
   "execution_count": 2,
   "metadata": {},
   "outputs": [
    {
     "name": "stderr",
     "output_type": "stream",
     "text": [
      "100%|██████████| 788/788 [00:06<00:00, 128.21it/s]\n",
      "100%|██████████| 727/727 [00:04<00:00, 147.72it/s]\n",
      "100%|██████████| 843/843 [00:10<00:00, 83.88it/s]\n",
      "100%|██████████| 702/702 [00:07<00:00, 89.56it/s] \n",
      "100%|██████████| 1000/1000 [00:07<00:00, 134.09it/s]\n",
      "100%|██████████| 968/968 [00:06<00:00, 144.82it/s]\n",
      "100%|██████████| 885/885 [00:09<00:00, 93.59it/s] \n",
      "100%|██████████| 986/986 [00:08<00:00, 121.50it/s]\n"
     ]
    }
   ],
   "source": [
    "# Declaring the main directory\n",
    "dir = '../input/natural-images/natural_images/'\n",
    "\n",
    "# Features and Labels\n",
    "ft = []\n",
    "lb = []\n",
    "labels = {}\n",
    "\n",
    "# Extracting label string and index\n",
    "for i, k in enumerate(os.listdir(dir)):\n",
    "    labels[k] = i\n",
    "    \n",
    "# Appending features and labels\n",
    "for i in os.listdir(dir):\n",
    "    subdir = os.path.join(dir, i)\n",
    "    for j in tqdm(os.listdir(subdir)):\n",
    "        im = cv2.imread(os.path.join(subdir, j), 0)\n",
    "        im = cv2.resize(im, (70, 70))\n",
    "        ft.append(im)\n",
    "        \n",
    "        lb.append(labels[i])\n",
    "        "
   ]
  },
  {
   "cell_type": "code",
   "execution_count": 3,
   "metadata": {},
   "outputs": [
    {
     "data": {
      "text/plain": [
       "((6899, 70, 70), (6899, 1))"
      ]
     },
     "execution_count": 3,
     "metadata": {},
     "output_type": "execute_result"
    }
   ],
   "source": [
    "# Converting to numpy arrays\n",
    "ft = np.array(ft)\n",
    "lb = np.array(lb).reshape(6899, 1)\n",
    "\n",
    "ft.shape, lb.shape"
   ]
  },
  {
   "cell_type": "code",
   "execution_count": 4,
   "metadata": {},
   "outputs": [
    {
     "data": {
      "text/plain": [
       "(6899, 70, 70, 1)"
      ]
     },
     "execution_count": 4,
     "metadata": {},
     "output_type": "execute_result"
    }
   ],
   "source": [
    "# Reshaping features to add dimension for graychannel\n",
    "X = ft.reshape(-1, 70, 70, 1)\n",
    "X.shape"
   ]
  },
  {
   "cell_type": "code",
   "execution_count": 5,
   "metadata": {},
   "outputs": [
    {
     "data": {
      "text/plain": [
       "(6899, 8)"
      ]
     },
     "execution_count": 5,
     "metadata": {},
     "output_type": "execute_result"
    }
   ],
   "source": [
    "# One Hot Encoding label values\n",
    "Y = to_categorical(lb)\n",
    "Y.shape"
   ]
  },
  {
   "cell_type": "code",
   "execution_count": 6,
   "metadata": {},
   "outputs": [],
   "source": [
    "# Normalizing feautures values\n",
    "X = X/255.0"
   ]
  },
  {
   "cell_type": "code",
   "execution_count": 25,
   "metadata": {},
   "outputs": [
    {
     "data": {
      "text/plain": [
       "((5174, 70, 70, 1), (1725, 70, 70, 1), (5174, 8), (1725, 8))"
      ]
     },
     "execution_count": 25,
     "metadata": {},
     "output_type": "execute_result"
    }
   ],
   "source": [
    "# Spliting into train and test \n",
    "from sklearn.model_selection import train_test_split\n",
    "x_train, x_test, y_train, y_test = train_test_split(X, Y)\n",
    "x_train.shape, x_test.shape, y_train.shape, y_test.shape"
   ]
  },
  {
   "cell_type": "code",
   "execution_count": 26,
   "metadata": {},
   "outputs": [
    {
     "data": {
      "text/plain": [
       "(70, 70, 1)"
      ]
     },
     "execution_count": 26,
     "metadata": {},
     "output_type": "execute_result"
    }
   ],
   "source": [
    "# Shape of one element of x_train\n",
    "x_train.shape[1:]"
   ]
  },
  {
   "cell_type": "code",
   "execution_count": 27,
   "metadata": {},
   "outputs": [],
   "source": [
    "# Initializing the model instance\n",
    "model = models.Sequential()\n",
    "\n",
    "# Adding layers to model instance\n",
    "model.add(Conv2D(32,(3,3) , padding='same' , input_shape=x_train.shape[1:]))\n",
    "model.add(Activation('relu'))\n",
    "model.add(MaxPooling2D(pool_size=(2,2)))\n",
    "model.add(Dropout(0.2))\n",
    "\n",
    "model.add(Conv2D(64,(3,3) , padding='same'))\n",
    "model.add(Activation('relu'))\n",
    "model.add(MaxPooling2D(pool_size=(2,2)))\n",
    "model.add(Dropout(0.2))\n",
    "\n",
    "model.add(Conv2D(128,(3,3) , padding='same'))\n",
    "model.add(Activation('relu'))\n",
    "model.add(MaxPooling2D(pool_size=(2,2)))\n",
    "model.add(Dropout(0.3))\n",
    "\n",
    "model.add(Conv2D(256,(3,3) , padding='same'))\n",
    "model.add(Activation('relu'))\n",
    "model.add(MaxPooling2D(pool_size=(2,2)))\n",
    "model.add(Dropout(0.4))\n",
    "\n",
    "model.add(Conv2D(512,(3,3) , padding='same'))\n",
    "model.add(Activation('relu'))\n",
    "model.add(MaxPooling2D(pool_size=(2,2)))\n",
    "model.add(Dropout(0.5))\n",
    "\n",
    "\n",
    "model.add(Conv2D(1024,(3,3) , padding='same'))\n",
    "model.add(Activation('relu'))\n",
    "model.add(MaxPooling2D(pool_size=(2,2)))\n",
    "model.add(Dropout(0.5))\n",
    "\n",
    "model.add(Flatten())\n",
    "model.add(Dense(8,activation='softmax')) # 8 neurons for 8 classes"
   ]
  },
  {
   "cell_type": "code",
   "execution_count": 28,
   "metadata": {},
   "outputs": [
    {
     "name": "stdout",
     "output_type": "stream",
     "text": [
      "Model: \"sequential_2\"\n",
      "_________________________________________________________________\n",
      "Layer (type)                 Output Shape              Param #   \n",
      "=================================================================\n",
      "conv2d_12 (Conv2D)           (None, 70, 70, 32)        320       \n",
      "_________________________________________________________________\n",
      "activation_12 (Activation)   (None, 70, 70, 32)        0         \n",
      "_________________________________________________________________\n",
      "max_pooling2d_12 (MaxPooling (None, 35, 35, 32)        0         \n",
      "_________________________________________________________________\n",
      "dropout_12 (Dropout)         (None, 35, 35, 32)        0         \n",
      "_________________________________________________________________\n",
      "conv2d_13 (Conv2D)           (None, 35, 35, 64)        18496     \n",
      "_________________________________________________________________\n",
      "activation_13 (Activation)   (None, 35, 35, 64)        0         \n",
      "_________________________________________________________________\n",
      "max_pooling2d_13 (MaxPooling (None, 17, 17, 64)        0         \n",
      "_________________________________________________________________\n",
      "dropout_13 (Dropout)         (None, 17, 17, 64)        0         \n",
      "_________________________________________________________________\n",
      "conv2d_14 (Conv2D)           (None, 17, 17, 128)       73856     \n",
      "_________________________________________________________________\n",
      "activation_14 (Activation)   (None, 17, 17, 128)       0         \n",
      "_________________________________________________________________\n",
      "max_pooling2d_14 (MaxPooling (None, 8, 8, 128)         0         \n",
      "_________________________________________________________________\n",
      "dropout_14 (Dropout)         (None, 8, 8, 128)         0         \n",
      "_________________________________________________________________\n",
      "conv2d_15 (Conv2D)           (None, 8, 8, 256)         295168    \n",
      "_________________________________________________________________\n",
      "activation_15 (Activation)   (None, 8, 8, 256)         0         \n",
      "_________________________________________________________________\n",
      "max_pooling2d_15 (MaxPooling (None, 4, 4, 256)         0         \n",
      "_________________________________________________________________\n",
      "dropout_15 (Dropout)         (None, 4, 4, 256)         0         \n",
      "_________________________________________________________________\n",
      "conv2d_16 (Conv2D)           (None, 4, 4, 512)         1180160   \n",
      "_________________________________________________________________\n",
      "activation_16 (Activation)   (None, 4, 4, 512)         0         \n",
      "_________________________________________________________________\n",
      "max_pooling2d_16 (MaxPooling (None, 2, 2, 512)         0         \n",
      "_________________________________________________________________\n",
      "dropout_16 (Dropout)         (None, 2, 2, 512)         0         \n",
      "_________________________________________________________________\n",
      "conv2d_17 (Conv2D)           (None, 2, 2, 1024)        4719616   \n",
      "_________________________________________________________________\n",
      "activation_17 (Activation)   (None, 2, 2, 1024)        0         \n",
      "_________________________________________________________________\n",
      "max_pooling2d_17 (MaxPooling (None, 1, 1, 1024)        0         \n",
      "_________________________________________________________________\n",
      "dropout_17 (Dropout)         (None, 1, 1, 1024)        0         \n",
      "_________________________________________________________________\n",
      "flatten_2 (Flatten)          (None, 1024)              0         \n",
      "_________________________________________________________________\n",
      "dense_2 (Dense)              (None, 8)                 8200      \n",
      "=================================================================\n",
      "Total params: 6,295,816\n",
      "Trainable params: 6,295,816\n",
      "Non-trainable params: 0\n",
      "_________________________________________________________________\n"
     ]
    }
   ],
   "source": [
    "# Checking model summary\n",
    "model.summary()"
   ]
  },
  {
   "cell_type": "code",
   "execution_count": 29,
   "metadata": {},
   "outputs": [],
   "source": [
    "# Compiling the model\n",
    "model.compile(optimizer='sgd',\n",
    "              loss='categorical_crossentropy', \n",
    "              metrics=['accuracy'])"
   ]
  },
  {
   "cell_type": "code",
   "execution_count": 30,
   "metadata": {},
   "outputs": [
    {
     "name": "stdout",
     "output_type": "stream",
     "text": [
      "Epoch 1/180\n",
      "162/162 [==============================] - 3s 14ms/step - loss: 2.0752 - accuracy: 0.1488 - val_loss: 2.0709 - val_accuracy: 0.1374\n",
      "Epoch 2/180\n",
      "162/162 [==============================] - 2s 13ms/step - loss: 2.0607 - accuracy: 0.1553 - val_loss: 2.0659 - val_accuracy: 0.1809\n",
      "Epoch 3/180\n",
      "162/162 [==============================] - 2s 12ms/step - loss: 2.0520 - accuracy: 0.1736 - val_loss: 2.0532 - val_accuracy: 0.2313\n",
      "Epoch 4/180\n",
      "162/162 [==============================] - 2s 12ms/step - loss: 2.0250 - accuracy: 0.1930 - val_loss: 2.0280 - val_accuracy: 0.2568\n",
      "Epoch 5/180\n",
      "162/162 [==============================] - 2s 13ms/step - loss: 1.9655 - accuracy: 0.2453 - val_loss: 1.9224 - val_accuracy: 0.2812\n",
      "Epoch 6/180\n",
      "162/162 [==============================] - 2s 12ms/step - loss: 1.8399 - accuracy: 0.2938 - val_loss: 1.7733 - val_accuracy: 0.4000\n",
      "Epoch 7/180\n",
      "162/162 [==============================] - 2s 13ms/step - loss: 1.7320 - accuracy: 0.3429 - val_loss: 1.7327 - val_accuracy: 0.4145\n",
      "Epoch 8/180\n",
      "162/162 [==============================] - 2s 12ms/step - loss: 1.6502 - accuracy: 0.3865 - val_loss: 1.5825 - val_accuracy: 0.4597\n",
      "Epoch 9/180\n",
      "162/162 [==============================] - 2s 12ms/step - loss: 1.5607 - accuracy: 0.4217 - val_loss: 1.4653 - val_accuracy: 0.5136\n",
      "Epoch 10/180\n",
      "162/162 [==============================] - 2s 12ms/step - loss: 1.4517 - accuracy: 0.4752 - val_loss: 1.3917 - val_accuracy: 0.5183\n",
      "Epoch 11/180\n",
      "162/162 [==============================] - 2s 12ms/step - loss: 1.3449 - accuracy: 0.4999 - val_loss: 1.3297 - val_accuracy: 0.5241\n",
      "Epoch 12/180\n",
      "162/162 [==============================] - 2s 12ms/step - loss: 1.2610 - accuracy: 0.5295 - val_loss: 1.3108 - val_accuracy: 0.5206\n",
      "Epoch 13/180\n",
      "162/162 [==============================] - 2s 13ms/step - loss: 1.2212 - accuracy: 0.5555 - val_loss: 1.1554 - val_accuracy: 0.5919\n",
      "Epoch 14/180\n",
      "162/162 [==============================] - 2s 12ms/step - loss: 1.1559 - accuracy: 0.5768 - val_loss: 1.0950 - val_accuracy: 0.6151\n",
      "Epoch 15/180\n",
      "162/162 [==============================] - 2s 12ms/step - loss: 1.1036 - accuracy: 0.6048 - val_loss: 1.1568 - val_accuracy: 0.5814\n",
      "Epoch 16/180\n",
      "162/162 [==============================] - 2s 12ms/step - loss: 1.0582 - accuracy: 0.6026 - val_loss: 1.0285 - val_accuracy: 0.6220\n",
      "Epoch 17/180\n",
      "162/162 [==============================] - 2s 12ms/step - loss: 1.0330 - accuracy: 0.6123 - val_loss: 1.3265 - val_accuracy: 0.5026\n",
      "Epoch 18/180\n",
      "162/162 [==============================] - 2s 13ms/step - loss: 0.9689 - accuracy: 0.6389 - val_loss: 1.0923 - val_accuracy: 0.5965\n",
      "Epoch 19/180\n",
      "162/162 [==============================] - 2s 12ms/step - loss: 0.9541 - accuracy: 0.6503 - val_loss: 1.0502 - val_accuracy: 0.6174\n",
      "Epoch 20/180\n",
      "162/162 [==============================] - 2s 12ms/step - loss: 0.9286 - accuracy: 0.6557 - val_loss: 0.8952 - val_accuracy: 0.6707\n",
      "Epoch 21/180\n",
      "162/162 [==============================] - 2s 13ms/step - loss: 0.8866 - accuracy: 0.6699 - val_loss: 0.9320 - val_accuracy: 0.6516\n",
      "Epoch 22/180\n",
      "162/162 [==============================] - 2s 12ms/step - loss: 0.8788 - accuracy: 0.6735 - val_loss: 0.8430 - val_accuracy: 0.6794\n",
      "Epoch 23/180\n",
      "162/162 [==============================] - 2s 12ms/step - loss: 0.8505 - accuracy: 0.6942 - val_loss: 0.9197 - val_accuracy: 0.6551\n",
      "Epoch 24/180\n",
      "162/162 [==============================] - 2s 13ms/step - loss: 0.8390 - accuracy: 0.6935 - val_loss: 0.8161 - val_accuracy: 0.6980\n",
      "Epoch 25/180\n",
      "162/162 [==============================] - 2s 12ms/step - loss: 0.8066 - accuracy: 0.7046 - val_loss: 0.8160 - val_accuracy: 0.6945\n",
      "Epoch 26/180\n",
      "162/162 [==============================] - 2s 12ms/step - loss: 0.7800 - accuracy: 0.7114 - val_loss: 0.7687 - val_accuracy: 0.7090\n",
      "Epoch 27/180\n",
      "162/162 [==============================] - 2s 12ms/step - loss: 0.7397 - accuracy: 0.7280 - val_loss: 0.7999 - val_accuracy: 0.6928\n",
      "Epoch 28/180\n",
      "162/162 [==============================] - 2s 12ms/step - loss: 0.7367 - accuracy: 0.7333 - val_loss: 0.7297 - val_accuracy: 0.7281\n",
      "Epoch 29/180\n",
      "162/162 [==============================] - 2s 13ms/step - loss: 0.7535 - accuracy: 0.7292 - val_loss: 0.7262 - val_accuracy: 0.7264\n",
      "Epoch 30/180\n",
      "162/162 [==============================] - 2s 12ms/step - loss: 0.6829 - accuracy: 0.7520 - val_loss: 0.7301 - val_accuracy: 0.7229\n",
      "Epoch 31/180\n",
      "162/162 [==============================] - 2s 12ms/step - loss: 0.6805 - accuracy: 0.7454 - val_loss: 0.6995 - val_accuracy: 0.7368\n",
      "Epoch 32/180\n",
      "162/162 [==============================] - 2s 12ms/step - loss: 0.6604 - accuracy: 0.7578 - val_loss: 0.6689 - val_accuracy: 0.7559\n",
      "Epoch 33/180\n",
      "162/162 [==============================] - 2s 12ms/step - loss: 0.6385 - accuracy: 0.7672 - val_loss: 0.6760 - val_accuracy: 0.7380\n",
      "Epoch 34/180\n",
      "162/162 [==============================] - 2s 12ms/step - loss: 0.6502 - accuracy: 0.7556 - val_loss: 0.6362 - val_accuracy: 0.7699\n",
      "Epoch 35/180\n",
      "162/162 [==============================] - 2s 13ms/step - loss: 0.6341 - accuracy: 0.7671 - val_loss: 0.6413 - val_accuracy: 0.7577\n",
      "Epoch 36/180\n",
      "162/162 [==============================] - 2s 12ms/step - loss: 0.6064 - accuracy: 0.7800 - val_loss: 0.6283 - val_accuracy: 0.7675\n",
      "Epoch 37/180\n",
      "162/162 [==============================] - 2s 13ms/step - loss: 0.5768 - accuracy: 0.7947 - val_loss: 0.7687 - val_accuracy: 0.7125\n",
      "Epoch 38/180\n",
      "162/162 [==============================] - 2s 12ms/step - loss: 0.5843 - accuracy: 0.7918 - val_loss: 0.5873 - val_accuracy: 0.7762\n",
      "Epoch 39/180\n",
      "162/162 [==============================] - 2s 12ms/step - loss: 0.5621 - accuracy: 0.7912 - val_loss: 0.6134 - val_accuracy: 0.7675\n",
      "Epoch 40/180\n",
      "162/162 [==============================] - 2s 13ms/step - loss: 0.5613 - accuracy: 0.7918 - val_loss: 0.6154 - val_accuracy: 0.7617\n",
      "Epoch 41/180\n",
      "162/162 [==============================] - 2s 12ms/step - loss: 0.5383 - accuracy: 0.8025 - val_loss: 0.5368 - val_accuracy: 0.8012\n",
      "Epoch 42/180\n",
      "162/162 [==============================] - 2s 12ms/step - loss: 0.5141 - accuracy: 0.8141 - val_loss: 0.5561 - val_accuracy: 0.7878\n",
      "Epoch 43/180\n",
      "162/162 [==============================] - 2s 12ms/step - loss: 0.5298 - accuracy: 0.8064 - val_loss: 0.5727 - val_accuracy: 0.7838\n",
      "Epoch 44/180\n",
      "162/162 [==============================] - 2s 12ms/step - loss: 0.4959 - accuracy: 0.8143 - val_loss: 0.5322 - val_accuracy: 0.7977\n",
      "Epoch 45/180\n",
      "162/162 [==============================] - 2s 12ms/step - loss: 0.5138 - accuracy: 0.8083 - val_loss: 0.6265 - val_accuracy: 0.7716\n",
      "Epoch 46/180\n",
      "162/162 [==============================] - 2s 13ms/step - loss: 0.5001 - accuracy: 0.8254 - val_loss: 0.5291 - val_accuracy: 0.8035\n",
      "Epoch 47/180\n",
      "162/162 [==============================] - 2s 12ms/step - loss: 0.4902 - accuracy: 0.8184 - val_loss: 0.5035 - val_accuracy: 0.8162\n",
      "Epoch 48/180\n",
      "162/162 [==============================] - 2s 12ms/step - loss: 0.4872 - accuracy: 0.8257 - val_loss: 0.5085 - val_accuracy: 0.8110\n",
      "Epoch 49/180\n",
      "162/162 [==============================] - 2s 12ms/step - loss: 0.4808 - accuracy: 0.8210 - val_loss: 0.5208 - val_accuracy: 0.8133\n",
      "Epoch 50/180\n",
      "162/162 [==============================] - 2s 12ms/step - loss: 0.4646 - accuracy: 0.8238 - val_loss: 0.4969 - val_accuracy: 0.8168\n",
      "Epoch 51/180\n",
      "162/162 [==============================] - 2s 13ms/step - loss: 0.4396 - accuracy: 0.8430 - val_loss: 0.5367 - val_accuracy: 0.7959\n",
      "Epoch 52/180\n",
      "162/162 [==============================] - 2s 13ms/step - loss: 0.4525 - accuracy: 0.8235 - val_loss: 0.4859 - val_accuracy: 0.8243\n",
      "Epoch 53/180\n",
      "162/162 [==============================] - 2s 13ms/step - loss: 0.4551 - accuracy: 0.8300 - val_loss: 0.4627 - val_accuracy: 0.8220\n",
      "Epoch 54/180\n",
      "162/162 [==============================] - 2s 12ms/step - loss: 0.4126 - accuracy: 0.8488 - val_loss: 0.4652 - val_accuracy: 0.8238\n",
      "Epoch 55/180\n",
      "162/162 [==============================] - 2s 12ms/step - loss: 0.4015 - accuracy: 0.8470 - val_loss: 0.4463 - val_accuracy: 0.8325\n",
      "Epoch 56/180\n",
      "162/162 [==============================] - 2s 12ms/step - loss: 0.4216 - accuracy: 0.8398 - val_loss: 0.4603 - val_accuracy: 0.8232\n",
      "Epoch 57/180\n",
      "162/162 [==============================] - 2s 13ms/step - loss: 0.4191 - accuracy: 0.8363 - val_loss: 0.4276 - val_accuracy: 0.8452\n",
      "Epoch 58/180\n",
      "162/162 [==============================] - 2s 12ms/step - loss: 0.3916 - accuracy: 0.8489 - val_loss: 0.4337 - val_accuracy: 0.8371\n",
      "Epoch 59/180\n",
      "162/162 [==============================] - 2s 12ms/step - loss: 0.3996 - accuracy: 0.8516 - val_loss: 0.7720 - val_accuracy: 0.7200\n",
      "Epoch 60/180\n",
      "162/162 [==============================] - 2s 12ms/step - loss: 0.4248 - accuracy: 0.8394 - val_loss: 0.4248 - val_accuracy: 0.8365\n",
      "Epoch 61/180\n",
      "162/162 [==============================] - 2s 12ms/step - loss: 0.3751 - accuracy: 0.8617 - val_loss: 0.4176 - val_accuracy: 0.8429\n",
      "Epoch 62/180\n",
      "162/162 [==============================] - 2s 13ms/step - loss: 0.3846 - accuracy: 0.8550 - val_loss: 0.4255 - val_accuracy: 0.8383\n",
      "Epoch 63/180\n",
      "162/162 [==============================] - 2s 12ms/step - loss: 0.3809 - accuracy: 0.8586 - val_loss: 0.4350 - val_accuracy: 0.8336\n",
      "Epoch 64/180\n",
      "162/162 [==============================] - 2s 12ms/step - loss: 0.3629 - accuracy: 0.8632 - val_loss: 0.4411 - val_accuracy: 0.8371\n",
      "Epoch 65/180\n",
      "162/162 [==============================] - 2s 12ms/step - loss: 0.3750 - accuracy: 0.8679 - val_loss: 0.3940 - val_accuracy: 0.8516\n",
      "Epoch 66/180\n",
      "162/162 [==============================] - 2s 12ms/step - loss: 0.3346 - accuracy: 0.8757 - val_loss: 0.4097 - val_accuracy: 0.8423\n",
      "Epoch 67/180\n",
      "162/162 [==============================] - 2s 12ms/step - loss: 0.3488 - accuracy: 0.8669 - val_loss: 0.4243 - val_accuracy: 0.8388\n",
      "Epoch 68/180\n",
      "162/162 [==============================] - 2s 13ms/step - loss: 0.3282 - accuracy: 0.8798 - val_loss: 0.4182 - val_accuracy: 0.8429\n",
      "Epoch 69/180\n",
      "162/162 [==============================] - 2s 13ms/step - loss: 0.3242 - accuracy: 0.8744 - val_loss: 0.4637 - val_accuracy: 0.8290\n",
      "Epoch 70/180\n",
      "162/162 [==============================] - 2s 12ms/step - loss: 0.3365 - accuracy: 0.8695 - val_loss: 0.3965 - val_accuracy: 0.8464\n"
     ]
    }
   ],
   "source": [
    "# Importing a callback\n",
    "from keras.callbacks import EarlyStopping\n",
    "early_stopping_monitor = EarlyStopping(patience=5)\n",
    "\n",
    "hist = model.fit(x_train, y_train, \n",
    "          epochs=180,\n",
    "          callbacks=[early_stopping_monitor],\n",
    "          validation_data=(x_test, y_test))"
   ]
  },
  {
   "cell_type": "code",
   "execution_count": 31,
   "metadata": {},
   "outputs": [
    {
     "name": "stdout",
     "output_type": "stream",
     "text": [
      "162/162 [==============================] - 1s 4ms/step - loss: 0.2720 - accuracy: 0.9020\n",
      "Training Accuracy: 90.20%\n",
      "54/54 [==============================] - 0s 4ms/step - loss: 0.3965 - accuracy: 0.8464\n",
      "Testing Accuracy: 84.64%\n"
     ]
    }
   ],
   "source": [
    "print('Training Accuracy: {0:.2%}'.format(float(model.evaluate(x_train,y_train)[1])))\n",
    "print('Testing Accuracy: {0:.2%}'.format(float(model.evaluate(x_test,y_test)[1])))"
   ]
  },
  {
   "cell_type": "code",
   "execution_count": 32,
   "metadata": {},
   "outputs": [
    {
     "data": {
      "text/plain": [
       "dict_keys(['loss', 'accuracy', 'val_loss', 'val_accuracy'])"
      ]
     },
     "execution_count": 32,
     "metadata": {},
     "output_type": "execute_result"
    }
   ],
   "source": [
    "# Training History\n",
    "hist.history.keys()"
   ]
  },
  {
   "cell_type": "code",
   "execution_count": 33,
   "metadata": {},
   "outputs": [
    {
     "data": {
      "image/png": "[encoded data removed]",
      "text/plain": [
       "<Figure size 432x288 with 1 Axes>"
      ]
     },
     "metadata": {
      "needs_background": "light"
     },
     "output_type": "display_data"
    },
    {
     "data": {
      "image/png": "[encoded data removed]",
      "text/plain": [
       "<Figure size 432x288 with 1 Axes>"
      ]
     },
     "metadata": {
      "needs_background": "light"
     },
     "output_type": "display_data"
    }
   ],
   "source": [
    "# Summarize history for accuracy\n",
    "plt.plot(hist.history['accuracy'])\n",
    "plt.plot(hist.history['val_accuracy'])\n",
    "plt.title('model accuracy')\n",
    "plt.ylabel('accuracy')\n",
    "plt.xlabel('epoch')\n",
    "plt.legend(['train', 'test'], loc='upper left')\n",
    "plt.savefig('model accuracy.png')\n",
    "plt.show()\n",
    "# Summarize history for loss\n",
    "plt.plot(hist.history['loss'])\n",
    "plt.plot(hist.history['val_loss'])\n",
    "plt.title('model loss')\n",
    "plt.ylabel('loss')\n",
    "plt.xlabel('epoch')\n",
    "plt.legend(['train', 'test'], loc='upper left')\n",
    "plt.savefig('model loss.png')\n",
    "plt.show()"
   ]
  },
  {
   "cell_type": "code",
   "execution_count": 34,
   "metadata": {},
   "outputs": [
    {
     "data": {
      "text/plain": [
       "['motorbike', 'airplane', 'flower', 'dog', 'fruit', 'car', 'cat', 'person']"
      ]
     },
     "execution_count": 34,
     "metadata": {},
     "output_type": "execute_result"
    }
   ],
   "source": [
    "# List with label names\n",
    "rev_labels = []\n",
    "\n",
    "for i, k in enumerate(labels.keys()):\n",
    "    rev_labels.append(k)\n",
    "\n",
    "rev_labels"
   ]
  },
  {
   "cell_type": "code",
   "execution_count": 55,
   "metadata": {},
   "outputs": [
    {
     "name": "stdout",
     "output_type": "stream",
     "text": [
      "546\n",
      "cat\n"
     ]
    },
    {
     "data": {
      "image/png": "[encoded data removed]",
      "text/plain": [
       "<Figure size 432x288 with 1 Axes>"
      ]
     },
     "metadata": {
      "needs_background": "light"
     },
     "output_type": "display_data"
    }
   ],
   "source": [
    "# Prediction\n",
    "i = int(input())\n",
    "\n",
    "print(rev_labels[np.argmax(model.predict([x_test[i:i+1]]))])\n",
    "plt.imshow(x_test[i], cmap='binary')\n",
    "plt.show()"
   ]
  },
  {
   "cell_type": "code",
   "execution_count": 53,
   "metadata": {},
   "outputs": [],
   "source": [
    "# Exporting the model\n",
    "model.save('natural_images_v5.h5')"
   ]
  },
  {
   "cell_type": "code",
   "execution_count": 54,
   "metadata": {},
   "outputs": [],
   "source": [
    "# Exporting training history\n",
    "import pickle\n",
    "\n",
    "with open('history.pkcl', 'wb') as f:\n",
    "    pickle.dump(hist.history, f)"
   ]
  }
 ],
 "metadata": {
  "kernelspec": {
   "display_name": "Python 3",
   "language": "python",
   "name": "python3"
  },
  "language_info": {
   "codemirror_mode": {
    "name": "ipython",
    "version": 3
   },
   "file_extension": ".py",
   "mimetype": "text/x-python",
   "name": "python",
   "nbconvert_exporter": "python",
   "pygments_lexer": "ipython3",
   "version": "3.8.3"
  }
 },
 "nbformat": 4,
 "nbformat_minor": 4
}
